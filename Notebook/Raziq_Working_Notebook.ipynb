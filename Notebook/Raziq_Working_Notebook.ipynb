{
 "cells": [
  {
   "cell_type": "code",
   "execution_count": 1,
   "metadata": {},
   "outputs": [],
   "source": [
    "import yt as yt\n"
   ]
  },
  {
   "cell_type": "code",
   "execution_count": 2,
   "metadata": {},
   "outputs": [
    {
     "name": "stderr",
     "output_type": "stream",
     "text": [
      "yt : [INFO     ] 2019-06-18 17:40:36,565 Parameters: current_time              = 12042349585.44105 yr\n",
      "yt : [INFO     ] 2019-06-18 17:40:36,566 Parameters: domain_dimensions         = [128 128 128]\n",
      "yt : [INFO     ] 2019-06-18 17:40:36,567 Parameters: domain_left_edge          = [0. 0. 0.]\n",
      "yt : [INFO     ] 2019-06-18 17:40:36,568 Parameters: domain_right_edge         = [128. 128. 128.]\n",
      "yt : [INFO     ] 2019-06-18 17:40:36,571 Parameters: cosmological_simulation   = True\n",
      "yt : [INFO     ] 2019-06-18 17:40:36,572 Parameters: current_redshift          = 0.10980115776994159\n",
      "yt : [INFO     ] 2019-06-18 17:40:36,573 Parameters: omega_lambda              = 0.7\n",
      "yt : [INFO     ] 2019-06-18 17:40:36,575 Parameters: omega_matter              = 0.3\n",
      "yt : [INFO     ] 2019-06-18 17:40:36,576 Parameters: hubble_constant           = 0.7\n"
     ]
    }
   ],
   "source": [
    "ds = yt.load(\"sizmbhloz-clref04SNth-rs9_a0.9011/sizmbhloz-clref04SNth-rs9_a0.9011.art\")"
   ]
  },
  {
   "cell_type": "code",
   "execution_count": 8,
   "metadata": {},
   "outputs": [
    {
     "name": "stderr",
     "output_type": "stream",
     "text": [
      "yt : [INFO     ] 2019-06-18 17:49:13,255 Created 4926 chunks for ARTIO\n",
      "yt : [INFO     ] 2019-06-18 17:49:13,522 xlim = 0.000000 128.000000\n",
      "yt : [INFO     ] 2019-06-18 17:49:13,523 ylim = 0.000000 128.000000\n",
      "yt : [INFO     ] 2019-06-18 17:49:13,524 xlim = 0.000000 128.000000\n",
      "yt : [INFO     ] 2019-06-18 17:49:13,525 ylim = 0.000000 128.000000\n",
      "yt : [INFO     ] 2019-06-18 17:49:13,527 Making a fixed resolution buffer of (('gas', 'density')) 800 by 800\n",
      "yt : [INFO     ] 2019-06-18 17:49:13,985 Making a fixed resolution buffer of (('gas', 'density')) 800 by 800\n",
      "yt : [INFO     ] 2019-06-18 17:49:14,155 Saving plot sizmbhloz-clref04SNth-rs9_a0.9011.art_Slice_z_density.png\n"
     ]
    },
    {
     "data": {
      "text/plain": [
       "['sizmbhloz-clref04SNth-rs9_a0.9011.art_Slice_z_density.png']"
      ]
     },
     "execution_count": 8,
     "metadata": {},
     "output_type": "execute_result"
    }
   ],
   "source": [
    "slc = yt.SlicePlot(ds, 'z', 'density')\n",
    "slc.zoom(10)\n",
    "slc.save()"
   ]
  },
  {
   "cell_type": "code",
   "execution_count": 4,
   "metadata": {},
   "outputs": [
    {
     "name": "stdout",
     "output_type": "stream",
     "text": [
      "('N-BODY', 'MASS')\n",
      "('N-BODY', 'PID')\n",
      "('N-BODY', 'POSITION_X')\n",
      "('N-BODY', 'POSITION_Y')\n",
      "('N-BODY', 'POSITION_Z')\n",
      "('N-BODY', 'SPECIES')\n",
      "('N-BODY', 'TIMESTEP')\n",
      "('N-BODY', 'VELOCITY_X')\n",
      "('N-BODY', 'VELOCITY_Y')\n",
      "('N-BODY', 'VELOCITY_Z')\n",
      "('STAR', 'BIRTH_TIME')\n",
      "('STAR', 'INITIAL_MASS')\n",
      "('STAR', 'MASS')\n",
      "('STAR', 'METALLICITY_SNII')\n",
      "('STAR', 'METALLICITY_SNIa')\n",
      "('STAR', 'PID')\n",
      "('STAR', 'POSITION_X')\n",
      "('STAR', 'POSITION_Y')\n",
      "('STAR', 'POSITION_Z')\n",
      "('STAR', 'SPECIES')\n",
      "('STAR', 'TIMESTEP')\n",
      "('STAR', 'VELOCITY_X')\n",
      "('STAR', 'VELOCITY_Y')\n",
      "('STAR', 'VELOCITY_Z')\n",
      "('all', 'MASS')\n",
      "('all', 'PID')\n",
      "('all', 'POSITION_X')\n",
      "('all', 'POSITION_Y')\n",
      "('all', 'POSITION_Z')\n",
      "('all', 'SPECIES')\n",
      "('all', 'TIMESTEP')\n",
      "('all', 'VELOCITY_X')\n",
      "('all', 'VELOCITY_Y')\n",
      "('all', 'VELOCITY_Z')\n",
      "('artio', 'HVAR_GAMMA')\n",
      "('artio', 'HVAR_GAS_DENSITY')\n",
      "('artio', 'HVAR_GAS_ENERGY')\n",
      "('artio', 'HVAR_INTERNAL_ENERGY')\n",
      "('artio', 'HVAR_METAL_DENSITY_II')\n",
      "('artio', 'HVAR_METAL_DENSITY_Ia')\n",
      "('artio', 'HVAR_MOMENTUM_X')\n",
      "('artio', 'HVAR_MOMENTUM_Y')\n",
      "('artio', 'HVAR_MOMENTUM_Z')\n",
      "('artio', 'HVAR_PRESSURE')\n",
      "('artio', 'VAR_POTENTIAL')\n",
      "('artio', 'VAR_POTENTIAL_HYDRO')\n"
     ]
    }
   ],
   "source": [
    "for i in sorted(ds.field_list):\n",
    "  print(i)"
   ]
  },
  {
   "cell_type": "code",
   "execution_count": 9,
   "metadata": {},
   "outputs": [
    {
     "name": "stderr",
     "output_type": "stream",
     "text": [
      "yt : [INFO     ] 2019-06-19 10:59:01,240 Created 2048 chunks for ARTIO\n",
      "yt : [INFO     ] 2019-06-19 10:59:13,123 Saving sizmbhloz-clref04SNth-rs9_a0.9011.art_1d-Profile_density_temperature.png\n",
      "yt : [INFO     ] 2019-06-19 10:59:13,126 Saving plot sizmbhloz-clref04SNth-rs9_a0.9011.art_1d-Profile_density_temperature.png\n"
     ]
    },
    {
     "data": {
      "text/plain": [
       "['sizmbhloz-clref04SNth-rs9_a0.9011.art_1d-Profile_density_temperature.png']"
      ]
     },
     "execution_count": 9,
     "metadata": {},
     "output_type": "execute_result"
    }
   ],
   "source": [
    "plot = yt.ProfilePlot(ds, \"density\", [\"temperature\"])\n",
    "plot.save()"
   ]
  },
  {
   "cell_type": "code",
   "execution_count": null,
   "metadata": {},
   "outputs": [],
   "source": []
  }
 ],
 "metadata": {
  "kernelspec": {
   "display_name": "Python 3",
   "language": "python",
   "name": "python3"
  },
  "language_info": {
   "codemirror_mode": {
    "name": "ipython",
    "version": 3
   },
   "file_extension": ".py",
   "mimetype": "text/x-python",
   "name": "python",
   "nbconvert_exporter": "python",
   "pygments_lexer": "ipython3",
   "version": "3.7.3"
  }
 },
 "nbformat": 4,
 "nbformat_minor": 2
}
