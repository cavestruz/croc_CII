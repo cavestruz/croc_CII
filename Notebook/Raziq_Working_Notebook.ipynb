{
 "cells": [
  {
   "cell_type": "code",
   "execution_count": null,
   "metadata": {},
   "outputs": [],
   "source": [
    "import yt as yt"
   ]
  },
  {
   "cell_type": "code",
   "execution_count": null,
   "metadata": {},
   "outputs": [],
   "source": [
    "## Test Data \n",
    "# ds = yt.load(\"~/Documents/Research with Camille/sizmbhloz-clref04SNth-rs9_a0.9011/sizmbhloz-clref04SNth-rs9_a0.9011.art\")\n",
    "\n",
    "## For use on nanna\n",
    "ds = yt.load(\"~/Data/rei20c1_a0.1667/rei20c1_a0.1667.art\")\n",
    "\n",
    "## For use on local machine\n",
    "# ds = yt.load(\"~/Documents/Research with Camille/rei20c1_a0.1667/rei20c1_a0.1667.art\")"
   ]
  },
  {
   "cell_type": "code",
   "execution_count": null,
   "metadata": {},
   "outputs": [],
   "source": [
    "slc = yt.SlicePlot(ds, 'z','density')\n",
    "# slc.zoom(10)\n",
    "slc.show()\n",
    "slc.save()"
   ]
  },
  {
   "cell_type": "code",
   "execution_count": null,
   "metadata": {},
   "outputs": [],
   "source": [
    "plot = yt.ProfilePlot(ds, \"density\", [\"temperature\"])\n",
    "plot.show()\n",
    "plot.save(\"Density vs. Temperature test plot\")"
   ]
  },
  {
   "cell_type": "code",
   "execution_count": null,
   "metadata": {},
   "outputs": [],
   "source": [
    "for i in sorted(ds.field_list):\n",
    "    print(i)"
   ]
  },
  {
   "cell_type": "code",
   "execution_count": null,
   "metadata": {},
   "outputs": [],
   "source": []
  }
 ],
 "metadata": {
  "kernelspec": {
   "display_name": "Python 3",
   "language": "python",
   "name": "python3"
  },
  "language_info": {
   "codemirror_mode": {
    "name": "ipython",
    "version": 3
   },
   "file_extension": ".py",
   "mimetype": "text/x-python",
   "name": "python",
   "nbconvert_exporter": "python",
   "pygments_lexer": "ipython3",
   "version": "3.7.3"
  }
 },
 "nbformat": 4,
 "nbformat_minor": 2
}
